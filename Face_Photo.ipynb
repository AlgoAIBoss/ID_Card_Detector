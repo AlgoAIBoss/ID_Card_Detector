{
  "nbformat": 4,
  "nbformat_minor": 0,
  "metadata": {
    "colab": {
      "name": "Face_Photo.ipynb",
      "provenance": [],
      "collapsed_sections": []
    },
    "kernelspec": {
      "name": "python3",
      "display_name": "Python 3"
    },
    "language_info": {
      "name": "python"
    }
  },
  "cells": [
    {
      "cell_type": "code",
      "metadata": {
        "id": "m5E9lr8W02zA"
      },
      "source": [
        "!pip install pytesseract\n",
        "!sudo apt-get install tesseract-ocr-ind"
      ],
      "execution_count": null,
      "outputs": []
    },
    {
      "cell_type": "code",
      "metadata": {
        "id": "mgKK43G208p_"
      },
      "source": [
        "!pip install PassportEye\n",
        "# tessaract should also be connected in command line"
      ],
      "execution_count": null,
      "outputs": []
    },
    {
      "cell_type": "code",
      "metadata": {
        "id": "NG1nKanlylfH"
      },
      "source": [
        "%matplotlib inline\n",
        "from passporteye.mrz.image import MRZPipeline\n",
        "from matplotlib import pyplot as plt\n",
        "from random import randint\n",
        "import cv2\n",
        "import sys, os, re\n",
        "import traceback\n",
        "import pytesseract\n",
        "import datetime\n",
        "import pandas as pd\n"
      ],
      "execution_count": null,
      "outputs": []
    },
    {
      "cell_type": "code",
      "metadata": {
        "id": "00CdhRfoy4My"
      },
      "source": [
        "##############    roots     ##################\n",
        "\n",
        "pytesseract.pytesseract.tesseract_cmd = r'/usr/bin/tesseract'\n",
        "cv2_base_dir = os.path.dirname(os.path.abspath(cv2.__file__))\n",
        "CASCADE = os.path.join(cv2_base_dir, 'data/haarcascade_frontalface_default.xml')\n",
        "FACE_CASCADE=cv2.CascadeClassifier(CASCADE)"
      ],
      "execution_count": null,
      "outputs": []
    },
    {
      "cell_type": "code",
      "metadata": {
        "id": "u17l4W2Q9S-N"
      },
      "source": [
        "#######################  Create   ########################\n",
        "\n",
        "if not os.path.isdir('Face'):\n",
        "  !mkdir '/content/Face'\n",
        "\n",
        "\n",
        "dataset = pd.DataFrame(columns = [\"firstname\",\"surname\", 'nationality', 'passport_type', 'date_of_birth', 'ID_number', 'gender', 'expiration_date', 'age'])"
      ],
      "execution_count": null,
      "outputs": []
    },
    {
      "cell_type": "code",
      "metadata": {
        "id": "t-BIbNyuL86S"
      },
      "source": [
        "######################    Upload Image   ######################\n",
        "from google.colab import files\n",
        "\n",
        "files.upload()"
      ],
      "execution_count": null,
      "outputs": []
    },
    {
      "cell_type": "code",
      "metadata": {
        "id": "3b_5BT0HdB7N"
      },
      "source": [
        "image = '/content/passport2.jpeg'"
      ],
      "execution_count": null,
      "outputs": []
    },
    {
      "cell_type": "code",
      "metadata": {
        "id": "Kdmx0fy-zhAq"
      },
      "source": [
        "#################################   Text Extraction   ########################################\n",
        "\n",
        "p = MRZPipeline(image)\n",
        "mrz_data = p.result.to_dict()\n",
        "\n",
        "if mrz_data['names']:\n",
        "  firstname =     mrz_data['names'].split()[0]\n",
        "else:\n",
        "  firstname = ''\n",
        "surname   =     mrz_data['surname']\n",
        "nationality =   mrz_data['nationality']\n",
        "passport_type = re.sub(\"[^A-Z^.]\", \"\", mrz_data['type'])\n",
        "date_of_birth = pd.to_datetime(re.sub(\"[^0-9^.]\", \"\", mrz_data['date_of_birth']), format='%y%m%d', errors='coerce')\n",
        "ID_number =     mrz_data['number'].strip().replace('<', '')\n",
        "gender  =       mrz_data['sex']\n",
        "expiration_date = mrz_data['expiration_date']\n",
        "\n",
        "birth = int(re.sub(\"[^0-9^.]\", \"\", mrz_data['date_of_birth'])[:2])\n",
        "current = int(str(datetime.datetime.now().year)[2:])\n",
        "\n",
        "if birth >  current:\n",
        "  age = current - birth + 100\n",
        "else:\n",
        "  age = current - birth"
      ],
      "execution_count": null,
      "outputs": []
    },
    {
      "cell_type": "code",
      "metadata": {
        "id": "aRgelTGm_oZQ"
      },
      "source": [
        "####################     Save     ######################\n",
        "\n",
        "dataset.loc[dataset.shape[0]] = [firstname, surname, nationality, passport_type, \n",
        "                                 date_of_birth, ID_number, gender, expiration_date, age]\n",
        "\n",
        "dataset.to_csv('dataset.csv', index=False)"
      ],
      "execution_count": null,
      "outputs": []
    },
    {
      "cell_type": "code",
      "metadata": {
        "colab": {
          "base_uri": "https://localhost:8080/",
          "height": 142
        },
        "id": "3NrQ4uDtK8wI",
        "outputId": "0aad5427-04de-47d3-d234-75625ad02910"
      },
      "source": [
        "dataset"
      ],
      "execution_count": null,
      "outputs": [
        {
          "output_type": "execute_result",
          "data": {
            "text/html": [
              "<div>\n",
              "<style scoped>\n",
              "    .dataframe tbody tr th:only-of-type {\n",
              "        vertical-align: middle;\n",
              "    }\n",
              "\n",
              "    .dataframe tbody tr th {\n",
              "        vertical-align: top;\n",
              "    }\n",
              "\n",
              "    .dataframe thead th {\n",
              "        text-align: right;\n",
              "    }\n",
              "</style>\n",
              "<table border=\"1\" class=\"dataframe\">\n",
              "  <thead>\n",
              "    <tr style=\"text-align: right;\">\n",
              "      <th></th>\n",
              "      <th>firstname</th>\n",
              "      <th>surname</th>\n",
              "      <th>nationality</th>\n",
              "      <th>passport_type</th>\n",
              "      <th>date_of_birth</th>\n",
              "      <th>ID_number</th>\n",
              "      <th>gender</th>\n",
              "      <th>expiration_date</th>\n",
              "      <th>age</th>\n",
              "    </tr>\n",
              "  </thead>\n",
              "  <tbody>\n",
              "    <tr>\n",
              "      <th>1</th>\n",
              "      <td>ANGELA</td>\n",
              "      <td>ST HELENA SPECIMEN</td>\n",
              "      <td>GBR</td>\n",
              "      <td>P</td>\n",
              "      <td>1988-09-11</td>\n",
              "      <td>760641560</td>\n",
              "      <td>F</td>\n",
              "      <td>250310</td>\n",
              "      <td>33</td>\n",
              "    </tr>\n",
              "    <tr>\n",
              "      <th>2</th>\n",
              "      <td>SUNDAL</td>\n",
              "      <td>SHAMIM</td>\n",
              "      <td>PAK</td>\n",
              "      <td>P</td>\n",
              "      <td>1996-09-05</td>\n",
              "      <td>RZ5153771</td>\n",
              "      <td>F</td>\n",
              "      <td>240228</td>\n",
              "      <td>25</td>\n",
              "    </tr>\n",
              "    <tr>\n",
              "      <th>3</th>\n",
              "      <td>SEYMOOR</td>\n",
              "      <td>PIPP</td>\n",
              "      <td>OGB</td>\n",
              "      <td>P</td>\n",
              "      <td>NaT</td>\n",
              "      <td>T6TO7TEOP</td>\n",
              "      <td>A</td>\n",
              "      <td>N15051</td>\n",
              "      <td>71</td>\n",
              "    </tr>\n",
              "  </tbody>\n",
              "</table>\n",
              "</div>"
            ],
            "text/plain": [
              "  firstname             surname nationality  ... gender expiration_date age\n",
              "1    ANGELA  ST HELENA SPECIMEN         GBR  ...      F          250310  33\n",
              "2    SUNDAL              SHAMIM         PAK  ...      F          240228  25\n",
              "3   SEYMOOR                PIPP         OGB  ...      A          N15051  71\n",
              "\n",
              "[3 rows x 9 columns]"
            ]
          },
          "metadata": {},
          "execution_count": 51
        }
      ]
    },
    {
      "cell_type": "code",
      "metadata": {
        "id": "7qPHIaJFb2vs",
        "colab": {
          "base_uri": "https://localhost:8080/",
          "height": 268
        },
        "outputId": "04f37ce7-6cdd-4ae3-d666-8403547ba8e3"
      },
      "source": [
        "################    Photo     ########################\n",
        "\n",
        "def detect_faces(image_path, name='', display=True):\n",
        "  image=cv2.imread(image_path)\n",
        "  image_grey=cv2.cvtColor(image,cv2.COLOR_BGR2GRAY)\n",
        "  faces = list(FACE_CASCADE.detectMultiScale(image_grey, \n",
        "                                             scaleFactor=1.16, minNeighbors=5, minSize=(25,25), flags=0))\n",
        "\n",
        "  if faces is 0:\n",
        "    print(\"No faces found\")\n",
        "    exit()\n",
        "\n",
        "\n",
        "  x, y, w, h = faces[0]\n",
        "  face = image[y-10:y+h+10,x-10:x+w+10]\n",
        "  os.chdir('/content/Face/')\n",
        "  \n",
        "  if name:\n",
        "    cv2.imwrite(name+\".jpg\",face)\n",
        "  else:\n",
        "    cv2.imwrite(str(randint(0,10000))+\".jpg\",face)\n",
        "  os.chdir(\"../\")\n",
        "  cv2.rectangle(image,(x,y),(x+w,y+h),(255, 255,0),2)\n",
        "  \n",
        "  if display:\n",
        "    plt.imshow(face)\n",
        "    plt.show()\n",
        "\n",
        "\n",
        "detect_faces(image, firstname)"
      ],
      "execution_count": null,
      "outputs": [
        {
          "output_type": "display_data",
          "data": {
            "image/png": "[encoded data removed]",
            "text/plain": [
              "<Figure size 432x288 with 1 Axes>"
            ]
          },
          "metadata": {
            "needs_background": "light"
          }
        }
      ]
    }
  ]
}